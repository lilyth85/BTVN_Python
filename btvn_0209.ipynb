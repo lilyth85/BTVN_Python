{
 "cells": [
  {
   "cell_type": "code",
   "execution_count": 5,
   "source": [
    "#bài 1: in tam giác\r\n",
    "n=5\r\n",
    "for i in range (1,n):\r\n",
    "    print ('  '*(n-i), '* '*i)"
   ],
   "outputs": [
    {
     "output_type": "stream",
     "name": "stdout",
     "text": [
      "         * \n",
      "       * * \n",
      "     * * * \n",
      "   * * * * \n"
     ]
    }
   ],
   "metadata": {}
  },
  {
   "cell_type": "code",
   "execution_count": 7,
   "source": [
    "#Bài 1: In tam giác 2 chiều\r\n",
    "# n=int(input(\"nhập vào chiều dài tam giác: \"))\r\n",
    "n=5\r\n",
    "m=2*n\r\n",
    "for i in range (1,m):\r\n",
    "    if i<n:\r\n",
    "        print ('  '*(n-i), '* '*i)\r\n",
    "    elif i==n:\r\n",
    "        print ((i*2)*' *')\r\n",
    "    elif n < i <=m:\r\n",
    "        print (m*' ', ((m-i)*'* '))"
   ],
   "outputs": [
    {
     "output_type": "stream",
     "name": "stdout",
     "text": [
      "         * \n",
      "       * * \n",
      "     * * * \n",
      "   * * * * \n",
      " * * * * * * * * * *\n",
      "           * * * * \n",
      "           * * * \n",
      "           * * \n",
      "           * \n"
     ]
    }
   ],
   "metadata": {}
  },
  {
   "cell_type": "code",
   "execution_count": 9,
   "source": [
    "#bài 1: 03 - In tam giác rỗng 2 chiều\r\n",
    "n=5\r\n",
    "for i in range(1, 2*n):\r\n",
    "    if i < n:\r\n",
    "        for j in range(1, i + 1):\r\n",
    "            if j == 1 or j == i:\r\n",
    "                print(\"*\", end=\" \")\r\n",
    "            else:\r\n",
    "                print(\" \", end=\" \")\r\n",
    "    elif i == n:\r\n",
    "        for j in range(1, 2*n+1):\r\n",
    "            print(\"*\", end=\" \")\r\n",
    "    else:\r\n",
    "        for j in range(1, 2*n + 1):\r\n",
    "            if j == 2*n or j == i+1:\r\n",
    "                print(\"*\", end=\" \")\r\n",
    "            else:\r\n",
    "                print(\" \", end=\" \")\r\n",
    "    print()\r\n"
   ],
   "outputs": [
    {
     "output_type": "stream",
     "name": "stdout",
     "text": [
      "* \n",
      "* * \n",
      "*   * \n",
      "*     * \n",
      "* * * * * * * * * * \n",
      "            *     * \n",
      "              *   * \n",
      "                * * \n",
      "                  * \n"
     ]
    }
   ],
   "metadata": {}
  }
 ],
 "metadata": {
  "orig_nbformat": 4,
  "language_info": {
   "name": "python",
   "version": "3.7.8",
   "mimetype": "text/x-python",
   "codemirror_mode": {
    "name": "ipython",
    "version": 3
   },
   "pygments_lexer": "ipython3",
   "nbconvert_exporter": "python",
   "file_extension": ".py"
  },
  "kernelspec": {
   "name": "python3",
   "display_name": "Python 3.7.8 64-bit"
  },
  "interpreter": {
   "hash": "38740d3277777e2cd7c6c2cc9d8addf5118fdf3f82b1b39231fd12aeac8aee8b"
  }
 },
 "nbformat": 4,
 "nbformat_minor": 2
}