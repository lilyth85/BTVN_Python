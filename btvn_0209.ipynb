{
 "cells": [
  {
   "cell_type": "code",
   "execution_count": 5,
   "source": [
    "#bài 1: in tam giác\r\n",
    "n=5\r\n",
    "for i in range (1,n):\r\n",
    "    print ('  '*(n-i), '* '*i)"
   ],
   "outputs": [
    {
     "output_type": "stream",
     "name": "stdout",
     "text": [
      "         * \n",
      "       * * \n",
      "     * * * \n",
      "   * * * * \n"
     ]
    }
   ],
   "metadata": {}
  },
  {
   "cell_type": "code",
   "execution_count": 7,
   "source": [
    "#Bài 1: In tam giác 2 chiều\r\n",
    "# n=int(input(\"nhập vào chiều dài tam giác: \"))\r\n",
    "n=5\r\n",
    "m=2*n\r\n",
    "for i in range (1,m):\r\n",
    "    if i<n:\r\n",
    "        print ('  '*(n-i), '* '*i)\r\n",
    "    elif i==n:\r\n",
    "        print ((i*2)*' *')\r\n",
    "    elif n < i <=m:\r\n",
    "        print (m*' ', ((m-i)*'* '))"
   ],
   "outputs": [
    {
     "output_type": "stream",
     "name": "stdout",
     "text": [
      "         * \n",
      "       * * \n",
      "     * * * \n",
      "   * * * * \n",
      " * * * * * * * * * *\n",
      "           * * * * \n",
      "           * * * \n",
      "           * * \n",
      "           * \n"
     ]
    }
   ],
   "metadata": {}
  },
  {
   "cell_type": "code",
   "execution_count": 9,
   "source": [
    "#bài 1: 03 - In tam giác rỗng 2 chiều\r\n",
    "n=5\r\n",
    "for i in range(1, 2*n):\r\n",
    "    if i < n:\r\n",
    "        for j in range(1, i + 1):\r\n",
    "            if j == 1 or j == i:\r\n",
    "                print(\"*\", end=\" \")\r\n",
    "            else:\r\n",
    "                print(\" \", end=\" \")\r\n",
    "    elif i == n:\r\n",
    "        for j in range(1, 2*n+1):\r\n",
    "            print(\"*\", end=\" \")\r\n",
    "    else:\r\n",
    "        for j in range(1, 2*n + 1):\r\n",
    "            if j == 2*n or j == i+1:\r\n",
    "                print(\"*\", end=\" \")\r\n",
    "            else:\r\n",
    "                print(\" \", end=\" \")\r\n",
    "    print()\r\n"
   ],
   "outputs": [
    {
     "output_type": "stream",
     "name": "stdout",
     "text": [
      "* \n",
      "* * \n",
      "*   * \n",
      "*     * \n",
      "* * * * * * * * * * \n",
      "            *     * \n",
      "              *   * \n",
      "                * * \n",
      "                  * \n"
     ]
    }
   ],
   "metadata": {}
  },
  {
   "cell_type": "code",
   "execution_count": 11,
   "source": [
    "# BT2: Viết chương trình in ra thời gian đếm ngược đến XMas 2021 sau mỗi khoảng thời gian nhất định.\r\n",
    "# vd in ra sau mỗi 5s:\r\n",
    "# Countdown to Xmas 2021: 112 days, 11:47:01.339588 Countdown to Xmas 2021: 112 days, 11:46:56.324008 Countdown to Xmas 2021: 112 days, 11:46:51.310473\r\n",
    "\r\n",
    "import datetime\r\n",
    "import time\r\n",
    "\r\n",
    "xmas = datetime.datetime(2021,12,24,00,00,00)\r\n",
    "\r\n",
    "while xmas > datetime.datetime.now():\r\n",
    "    delta = (xmas - datetime.datetime.now())\r\n",
    "    print(\"Hiện tại là :\",datetime.datetime.now())\r\n",
    "    print(\"Countdown to Xmas 2021 : \", delta)\r\n",
    "    time.sleep(5)\r\n",
    "    #break\r\n"
   ],
   "outputs": [
    {
     "output_type": "stream",
     "name": "stdout",
     "text": [
      "Hiện tại là : 2021-09-10 16:55:25.112866\n",
      "Countdown to Xmas 2021 :  104 days, 7:04:34.887134\n"
     ]
    }
   ],
   "metadata": {}
  },
  {
   "cell_type": "code",
   "execution_count": 13,
   "source": [
    "# Unique value Dictionary: Cho một list gồm 1 hoặc nhiều từ điển (Dictionary). Viết chương trình để trả ra tập hợp tất cả các giá trị (values) duy nhất trong tất cả danh sách các từ điển trên.\r\n",
    "# [VD1]: Trường hợp dưới đây danh sách đầu vào có 1 từ điển map tên người vào tuổi của họ. Trả ra set các tuổi duy nhất.\r\n",
    "# unique_value_dict([dict(Trang=38, Thu=38, Ngoc=27, Thanh=26, Yen=25, Hang=22, Thuy=22)]) == {22, 25, 26, 27, 38} [VD2]: Trường hợp dưới đây danh sách đầu vào có 7 dicts, mỗi dict chỉ có 1 cặp key-values. 5 giá trị trả về là duy nhất.\r\n",
    "# unique_value_dict([{\"V\":\"S001\"}, {\"V\": \"S002\"}, {\"VI\": \"S001\"}, {\"VI\": \"S005\"}, {\"VII\":\"S005\"}, {\"V\":\"S009\"},{\"VIII\":\"S007\"}]) == {'S009', 'S007', 'S002', 'S001', 'S005'}\r\n",
    "dict1 = dict(HA=38, Thu=38, Xuan=27, Dong=26, ngay=25, Dem=22, Sang=22, Toi=33)\r\n",
    "ages1=set(dict1.values())\r\n",
    "ages1\r\n"
   ],
   "outputs": [
    {
     "output_type": "execute_result",
     "data": {
      "text/plain": [
       "{22, 25, 26, 27, 33, 38}"
      ]
     },
     "metadata": {},
     "execution_count": 13
    }
   ],
   "metadata": {}
  },
  {
   "cell_type": "code",
   "execution_count": 14,
   "source": [
    "dict2 =[{\"V\":\"S001\"}, {\"V\": \"S002\"}, {\"VI\": \"S001\"}, {\"VI\": \"S005\"}, {\"VII\":\"S005\"}, {\"V\":\"S009\"},{\"VIII\":\"S007\"}]\r\n",
    "ages2=[]\r\n",
    "\r\n",
    "for i in dict2:\r\n",
    "    ages2.append(*i.values())\r\n",
    "print(set(ages2))\r\n"
   ],
   "outputs": [
    {
     "output_type": "stream",
     "name": "stdout",
     "text": [
      "{'S002', 'S005', 'S009', 'S007', 'S001'}\n"
     ]
    }
   ],
   "metadata": {}
  },
  {
   "cell_type": "code",
   "execution_count": 15,
   "source": [
    "#Cho list A chứa các số nguyên đã sắp xếp theo thứ tự tăng dần. Vd A = [3, 6, 7, 9, 11, 12] và một số nguyên sum. Tìm tất cả các cặp số (a,b) trong mảng A có tổng bằng sum vd ở đây nếu sum = 18 thì kết quả là [(7,11), (6,12)]. Nếu không có cặp số nào thỏa mãn thì in ra list rỗng []\r\n",
    "\r\n",
    "a = [3, 6, 7, 9, 11, 12]\r\n",
    "sum = 18\r\n",
    "result = []\r\n",
    "\r\n",
    "for i in range(len(a)):\r\n",
    "    for j in range(i+1,len(a)):\r\n",
    "        if (a[i] + a[j]) == sum:\r\n",
    "            result.append({a[i],a[j]})\r\n",
    "print(result)"
   ],
   "outputs": [
    {
     "output_type": "stream",
     "name": "stdout",
     "text": [
      "[{12, 6}, {11, 7}]\n"
     ]
    }
   ],
   "metadata": {}
  }
 ],
 "metadata": {
  "orig_nbformat": 4,
  "language_info": {
   "name": "python",
   "version": "3.7.8",
   "mimetype": "text/x-python",
   "codemirror_mode": {
    "name": "ipython",
    "version": 3
   },
   "pygments_lexer": "ipython3",
   "nbconvert_exporter": "python",
   "file_extension": ".py"
  },
  "kernelspec": {
   "name": "python3",
   "display_name": "Python 3.7.8 64-bit"
  },
  "interpreter": {
   "hash": "38740d3277777e2cd7c6c2cc9d8addf5118fdf3f82b1b39231fd12aeac8aee8b"
  }
 },
 "nbformat": 4,
 "nbformat_minor": 2
}