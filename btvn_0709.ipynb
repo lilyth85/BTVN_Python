{
 "cells": [
  {
   "cell_type": "code",
   "execution_count": 8,
   "source": [
    "#BTVN01: Function - Đếm loại ký tự\r\n",
    "# Viết hàm có đầu vào là 1 chuỗi, trả ra số chữ cái, số ký tự viết hoa, số ký tự viết thường và số chữ số trong chuỗi đó. Giả sử đầu vào sau được cấp cho hàm:\r\n",
    "# s = \"Hello World! 123\"\r\n",
    "# Hàm count_char_type(s) sẽ trả ra 1 dict {\"LETTERS\":10, \"CASE\": {\"UPPER CASE\":2, \"LOWER CASE\":8}, \"DIGITS\":3}. Lưu ý: value của key \"CASE\" là một dict có 2 keys là \"UPPER CASE\", \"LOWER CASE\".\r\n",
    "# a) Viết hàm trên dùng bất kỳ hàm built in nào của python\r\n",
    "# b) Viết hàm chỉ dùng 1 hàm built in duy nhất.\r\n",
    "# Gợi ý: Bộ ký tự đơn giản in ra màn hình được còn được gọi là bộ mã ASCII (đọc là 'As key') nguyên gốc gồm 128 ký tự. Bạn có thể in ra thử với câu lệnh sau.\r\n",
    "# ASCII = \"\".join(chr(x) for x in range(33, 128))\r\n",
    "# print(ASCII)\r\n",
    "###############Dùng built có sẵn#########################\r\n",
    "\r\n",
    "s = \"Chào Thu Huyền 2021!!\"\r\n",
    "d={\"hoa\":0, \"thuong\":0, \"so\":0}\r\n",
    "e={\"chuoi\":0}\r\n",
    "for c in s:\r\n",
    "    e['chuoi']+=1\r\n",
    "    if c.isupper():\r\n",
    "        d[\"hoa\"]+=1\r\n",
    "    elif c.islower():   \r\n",
    "        d[\"thuong\"]+=1\r\n",
    "    elif c.isnumeric():\r\n",
    "        d[\"so\"]+=1\r\n",
    "    else:\r\n",
    "        pass\r\n",
    "print (\"SL ký tự của Chuỗi:\", e[\"chuoi\"])\r\n",
    "print (\"SL ký tự Chữ hoa:\", d[\"hoa\"])\r\n",
    "print (\"SL ký tự Chữ thường:\", d[\"thuong\"])\r\n",
    "print (\"SL ký tự Chữ số:\", d[\"so\"])\r\n"
   ],
   "outputs": [
    {
     "output_type": "stream",
     "name": "stdout",
     "text": [
      "SL ký tự của Chuỗi: 21\n",
      "SL ký tự Chữ hoa: 3\n",
      "SL ký tự Chữ thường: 9\n",
      "SL ký tự Chữ số: 4\n"
     ]
    }
   ],
   "metadata": {}
  },
  {
   "cell_type": "code",
   "execution_count": 11,
   "source": [
    "#BTVN01: Function - Đếm loại ký tự\r\n",
    "###############Dùng built có sẵn#########################\r\n",
    "\r\n",
    "s = \"Hello world, heo no Thu Huyen 2021!!!\"\r\n",
    "d={\"hoa\":0, \"thuong\":0, \"so\":0}\r\n",
    "e = {\"chuoi\":0}\r\n",
    "list1=['A','B','C','D','E','F','G','H','I','J','K','L','M','N','O','P','Q','S','T','U','V','W','X','Y','Z','Ă','Â','Ô','Ơ','Ư']\r\n",
    "list2=['a','b','c','d','e','f','g','h','i','j','k','l','m','n','o','p','q','s','t','u','v','x','y','z','ă','â','ô','ơ','ư']\r\n",
    "list3=['0','1','2','3','4','5','6','7','8','9']\r\n",
    "\r\n",
    "for c in s:\r\n",
    "    e[\"chuoi\"]+=1\r\n",
    "    if c in list1:\r\n",
    "        d[\"hoa\"]+=1\r\n",
    "    elif c in list2:\r\n",
    "        d[\"thuong\"]+=1\r\n",
    "    elif c in list3:\r\n",
    "          d[\"so\"]+=1\r\n",
    "    else:\r\n",
    "        pass\r\n",
    "print (\"Số ký tự trong chuỗi:\", e[\"chuoi\"])\r\n",
    "print (\"Chữ hoa:\", d[\"hoa\"])\r\n",
    "print (\"Chữ thường:\", d[\"thuong\"])\r\n",
    "print (\"Chữ số:\", d[\"so\"])"
   ],
   "outputs": [
    {
     "output_type": "stream",
     "name": "stdout",
     "text": [
      "Số ký tự trong chuỗi: 37\n",
      "Chữ hoa: 3\n",
      "Chữ thường: 18\n",
      "Chữ số: 4\n"
     ]
    }
   ],
   "metadata": {}
  },
  {
   "cell_type": "markdown",
   "source": [],
   "metadata": {}
  }
 ],
 "metadata": {
  "orig_nbformat": 4,
  "language_info": {
   "name": "python",
   "version": "3.7.8",
   "mimetype": "text/x-python",
   "codemirror_mode": {
    "name": "ipython",
    "version": 3
   },
   "pygments_lexer": "ipython3",
   "nbconvert_exporter": "python",
   "file_extension": ".py"
  },
  "kernelspec": {
   "name": "python3",
   "display_name": "Python 3.7.8 64-bit"
  },
  "interpreter": {
   "hash": "38740d3277777e2cd7c6c2cc9d8addf5118fdf3f82b1b39231fd12aeac8aee8b"
  }
 },
 "nbformat": 4,
 "nbformat_minor": 2
}