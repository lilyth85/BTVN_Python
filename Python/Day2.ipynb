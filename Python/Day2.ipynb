{
 "cells": [
  {
   "cell_type": "code",
   "execution_count": 34,
   "source": [
    "if 25<30:\r\n",
    "    print(\"True\")\r\n",
    "    "
   ],
   "outputs": [
    {
     "output_type": "stream",
     "name": "stdout",
     "text": [
      "True\n"
     ]
    }
   ],
   "metadata": {}
  },
  {
   "cell_type": "code",
   "execution_count": 35,
   "source": [
    "if 25==30:\r\n",
    "    print(\"True\")\r\n",
    "else:    \r\n",
    "    print(\"false\")"
   ],
   "outputs": [
    {
     "output_type": "stream",
     "name": "stdout",
     "text": [
      "false\n"
     ]
    }
   ],
   "metadata": {}
  },
  {
   "cell_type": "code",
   "execution_count": 36,
   "source": [],
   "outputs": [],
   "metadata": {}
  },
  {
   "cell_type": "code",
   "execution_count": 45,
   "source": [
    "amount = 10\r\n",
    "if amount>15:\r\n",
    "    print(\"Đúng\")\r\n",
    "elif amount==10:\r\n",
    "    print(\"cũng đúng\")"
   ],
   "outputs": [
    {
     "output_type": "stream",
     "name": "stdout",
     "text": [
      "cũng đúng\n"
     ]
    }
   ],
   "metadata": {}
  },
  {
   "cell_type": "code",
   "execution_count": 47,
   "source": [
    "s='foo'\r\n",
    "t='bar'\r\n",
    "print('bart' in 2 * (s+t))"
   ],
   "outputs": [
    {
     "output_type": "stream",
     "name": "stdout",
     "text": [
      "False\n"
     ]
    }
   ],
   "metadata": {}
  },
  {
   "cell_type": "code",
   "execution_count": 49,
   "source": [
    "amount = 10\r\n",
    "if amount<15:\r\n",
    "    print(\"Đúng\")\r\n",
    "elif amount==10:\r\n",
    "    print(\"cũng đúng\")"
   ],
   "outputs": [
    {
     "output_type": "stream",
     "name": "stdout",
     "text": [
      "cũng đúng\n"
     ]
    }
   ],
   "metadata": {}
  },
  {
   "cell_type": "code",
   "execution_count": 58,
   "source": [
    "h = float(input)(\"Nhập chiều cao của bạn:\"))\r\n",
    "w = float(input(\"Nhập cân nặng của bạn:\"))\r\n",
    "#Tính chỉ số BMI: w / (h * h)\r\n",
    "IBM = w/(h*h)\r\n",
    "print(\"chỉ số IBM của bạn là:\",IBM)\r\n",
    "if IBM < 17:\r\n",
    "  print(\"Gầy độ II\")\r\n",
    "elif 17 <= IBM < 18.5:\r\n",
    "  print(\"gầy độ 1\")\r\n",
    "elif 18.5 <= IBM <25:\r\n",
    "  print (\"Bình thường\")\r\n",
    "elif 25<= IBM <30:\r\n",
    "  print (\"Thừa cân\")\r\n",
    "elif IBM >= 35:\r\n",
    "  print (\"Béo phì độ II\")"
   ],
   "outputs": [
    {
     "output_type": "stream",
     "name": "stdout",
     "text": [
      "Nhập chiều cao của bạn:\n"
     ]
    }
   ],
   "metadata": {}
  },
  {
   "cell_type": "code",
   "execution_count": null,
   "source": [],
   "outputs": [],
   "metadata": {}
  },
  {
   "cell_type": "code",
   "execution_count": null,
   "source": [],
   "outputs": [],
   "metadata": {}
  }
 ],
 "metadata": {
  "orig_nbformat": 4,
  "language_info": {
   "name": "python",
   "version": "3.7.8",
   "mimetype": "text/x-python",
   "codemirror_mode": {
    "name": "ipython",
    "version": 3
   },
   "pygments_lexer": "ipython3",
   "nbconvert_exporter": "python",
   "file_extension": ".py"
  },
  "kernelspec": {
   "name": "python3",
   "display_name": "Python 3.7.8 64-bit"
  },
  "interpreter": {
   "hash": "38740d3277777e2cd7c6c2cc9d8addf5118fdf3f82b1b39231fd12aeac8aee8b"
  }
 },
 "nbformat": 4,
 "nbformat_minor": 2
}