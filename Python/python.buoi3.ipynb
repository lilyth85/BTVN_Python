{
 "cells": [
  {
   "cell_type": "code",
   "execution_count": 7,
   "source": [
    "banks={\"tech\": \"onemount\",\r\n",
    "        \"bac a\":\"Nam a\"\r\n",
    "}\r\n",
    "#banks.values()\r\n",
    "banks.keys()"
   ],
   "outputs": [
    {
     "output_type": "execute_result",
     "data": {
      "text/plain": [
       "dict_keys(['tech', 'bac a'])"
      ]
     },
     "metadata": {},
     "execution_count": 7
    }
   ],
   "metadata": {}
  },
  {
   "cell_type": "code",
   "execution_count": null,
   "source": [
    "#DL kiểu ngày tháng=> Python hỗ trợ kiểu import, hỗ trợ nhiều\r\n",
    "from datetime import date\r\n",
    "\r\n",
    "Unix epoch\r\n",
    "\r\n",
    "Daylight saving time\r\n",
    "\r\n",
    "timezone"
   ],
   "outputs": [],
   "metadata": {}
  },
  {
   "cell_type": "code",
   "execution_count": 11,
   "source": [
    "today = date.today()\r\n",
    "\r\n",
    "today\r\n"
   ],
   "outputs": [
    {
     "output_type": "error",
     "ename": "NameError",
     "evalue": "name 'date' is not defined",
     "traceback": [
      "\u001b[1;31m---------------------------------------------------------------------------\u001b[0m",
      "\u001b[1;31mNameError\u001b[0m                                 Traceback (most recent call last)",
      "\u001b[1;32mC:\\Users\\HUYENP~1\\AppData\\Local\\Temp/ipykernel_18092/887654514.py\u001b[0m in \u001b[0;36m<module>\u001b[1;34m\u001b[0m\n\u001b[1;32m----> 1\u001b[1;33m \u001b[0mtoday\u001b[0m \u001b[1;33m=\u001b[0m \u001b[0mdate\u001b[0m\u001b[1;33m.\u001b[0m\u001b[0mtoday\u001b[0m\u001b[1;33m(\u001b[0m\u001b[1;33m)\u001b[0m\u001b[1;33m\u001b[0m\u001b[1;33m\u001b[0m\u001b[0m\n\u001b[0m\u001b[0;32m      2\u001b[0m \u001b[1;33m\u001b[0m\u001b[0m\n\u001b[0;32m      3\u001b[0m \u001b[0mtoday\u001b[0m\u001b[1;33m\u001b[0m\u001b[1;33m\u001b[0m\u001b[0m\n",
      "\u001b[1;31mNameError\u001b[0m: name 'date' is not defined"
     ]
    }
   ],
   "metadata": {}
  },
  {
   "cell_type": "code",
   "execution_count": 12,
   "source": [
    "today =datetime.now()"
   ],
   "outputs": [
    {
     "output_type": "error",
     "ename": "NameError",
     "evalue": "name 'datetime' is not defined",
     "traceback": [
      "\u001b[1;31m---------------------------------------------------------------------------\u001b[0m",
      "\u001b[1;31mNameError\u001b[0m                                 Traceback (most recent call last)",
      "\u001b[1;32mC:\\Users\\HUYENP~1\\AppData\\Local\\Temp/ipykernel_18092/3468880515.py\u001b[0m in \u001b[0;36m<module>\u001b[1;34m\u001b[0m\n\u001b[1;32m----> 1\u001b[1;33m \u001b[0mtoday\u001b[0m \u001b[1;33m=\u001b[0m\u001b[0mdatetime\u001b[0m\u001b[1;33m.\u001b[0m\u001b[0mnow\u001b[0m\u001b[1;33m(\u001b[0m\u001b[1;33m)\u001b[0m\u001b[1;33m\u001b[0m\u001b[1;33m\u001b[0m\u001b[0m\n\u001b[0m",
      "\u001b[1;31mNameError\u001b[0m: name 'datetime' is not defined"
     ]
    }
   ],
   "metadata": {}
  },
  {
   "cell_type": "code",
   "execution_count": 13,
   "source": [
    "list = [1, 2, 5, 6, 9]\r\n",
    "for i in list: #cấu trúc for chạy lặp trong mảng; đọc đến cuối\r\n",
    "    print(i)"
   ],
   "outputs": [
    {
     "output_type": "stream",
     "name": "stdout",
     "text": [
      "1\n",
      "2\n",
      "5\n",
      "6\n",
      "9\n"
     ]
    }
   ],
   "metadata": {}
  },
  {
   "cell_type": "code",
   "execution_count": 19,
   "source": [
    "for chu in 'quantrimang':\r\n",
    "    print('Chữ cái hiện tại:', chu)"
   ],
   "outputs": [
    {
     "output_type": "stream",
     "name": "stdout",
     "text": [
      "Chữ cái hiện tại: q\n",
      "Chữ cái hiện tại: u\n",
      "Chữ cái hiện tại: a\n",
      "Chữ cái hiện tại: n\n",
      "Chữ cái hiện tại: t\n",
      "Chữ cái hiện tại: r\n",
      "Chữ cái hiện tại: i\n",
      "Chữ cái hiện tại: m\n",
      "Chữ cái hiện tại: a\n",
      "Chữ cái hiện tại: n\n",
      "Chữ cái hiện tại: g\n"
     ]
    }
   ],
   "metadata": {}
  },
  {
   "cell_type": "markdown",
   "source": [],
   "metadata": {}
  },
  {
   "cell_type": "code",
   "execution_count": null,
   "source": [
    "#for chạy 1 chiều\r\n",
    "#while có thể chạy 2 chiều"
   ],
   "outputs": [],
   "metadata": {}
  },
  {
   "cell_type": "code",
   "execution_count": null,
   "source": [
    "#range(6) -> in từ 0->5"
   ],
   "outputs": [],
   "metadata": {}
  },
  {
   "cell_type": "code",
   "execution_count": null,
   "source": [
    "#range(2,11,3) -> nhảy từ 2->10 + bước nhảy =3\r\n",
    "\r\n",
    "#for _ in ... => _ là 1 biến ko dùng được\r\n",
    "#while vòng lặp while"
   ],
   "outputs": [],
   "metadata": {}
  },
  {
   "cell_type": "code",
   "execution_count": 1,
   "source": [
    "for i in 'Huyen':\r\n",
    "    print(i)"
   ],
   "outputs": [
    {
     "output_type": "stream",
     "name": "stdout",
     "text": [
      "H\n",
      "u\n",
      "y\n",
      "e\n",
      "n\n"
     ]
    }
   ],
   "metadata": {}
  },
  {
   "cell_type": "code",
   "execution_count": 2,
   "source": [
    "a = ['foo', 'bar', 'baz', 'qux', 'corge']\r\n",
    "print(len(a))\r\n",
    "while a:\r\n",
    "    if len(a) < 3:\r\n",
    "       break\r\n",
    "    print(a.pop())\r\n",
    "print('Done.')\r\n",
    "    "
   ],
   "outputs": [
    {
     "output_type": "stream",
     "name": "stdout",
     "text": [
      "5\n",
      "corge\n",
      "qux\n",
      "baz\n",
      "Done.\n"
     ]
    }
   ],
   "metadata": {}
  },
  {
   "cell_type": "code",
   "execution_count": 3,
   "source": [
    "str1 = \"HELLO\"\r\n",
    "print(str1[:])\r\n",
    "print(str1[0:])\r\n",
    "print(str1[:5])\r\n",
    "print(str1[:3])\r\n",
    "print(str1[0:2])\r\n",
    "print(str1[1:4])"
   ],
   "outputs": [
    {
     "output_type": "stream",
     "name": "stdout",
     "text": [
      "HELLO\n",
      "HELLO\n",
      "HELLO\n",
      "HEL\n",
      "HE\n",
      "ELL\n"
     ]
    }
   ],
   "metadata": {}
  },
  {
   "cell_type": "code",
   "execution_count": 9,
   "source": [
    "s = \"****\"\r\n",
    "print(s[3:1])\r\n",
    "[]\r\n",
    "print (s[:])\r\n"
   ],
   "outputs": [
    {
     "output_type": "stream",
     "name": "stdout",
     "text": [
      "\n",
      "****\n"
     ]
    }
   ],
   "metadata": {}
  },
  {
   "cell_type": "code",
   "execution_count": 126,
   "source": [
    "# n=4\r\n",
    "# m=n*2\r\n",
    "# for i in range (1,n+1):\r\n",
    "#     print((n-i)*' ', i*'*')\r\n",
    "# for j in range(n,m):\r\n",
    "#     if n==j:\r\n",
    "#         print(j*'*')\r\n",
    "#     else:\r\n",
    "#         print(n*' ',(m-j)*'*')\r\n"
   ],
   "outputs": [],
   "metadata": {}
  },
  {
   "cell_type": "code",
   "execution_count": 146,
   "source": [
    "# n=int(input(\"nhập vào chiều dài tam giác: \"))\r\n",
    "n=5\r\n",
    "m=2*n\r\n",
    "for i in range (1,m):\r\n",
    "    if i<n:\r\n",
    "        print ('  '*(n-i), '* '*i)\r\n",
    "    elif i==n:\r\n",
    "        print ((i*2)*' *')\r\n",
    "    elif n < i <=m:\r\n",
    "        print (m*' ', ((m-i)*'* '))\r\n"
   ],
   "outputs": [
    {
     "output_type": "stream",
     "name": "stdout",
     "text": [
      "         * \n",
      "       * * \n",
      "     * * * \n",
      "   * * * * \n",
      " * * * * * * * * * *\n",
      "           * * * * \n",
      "           * * * \n",
      "           * * \n",
      "           * \n"
     ]
    }
   ],
   "metadata": {}
  },
  {
   "cell_type": "code",
   "execution_count": 168,
   "source": [
    "# n=int(input(\"nhập vào chiều dài tam giác: \"))\r\n",
    "n=6\r\n",
    "m=2*n\r\n",
    "for i in range (1,m):\r\n",
    "    if i<n:\r\n",
    "        if i==1:\r\n",
    "            print(' *')\r\n",
    "        elif i==2:\r\n",
    "            print (' *', ' *')\r\n",
    "\r\n",
    "        elif 1<i<n:\r\n",
    "            #print(' *',(i-1)*' ', '*')\r\n",
    "            print (' * ',(i-2)*' ','*')\r\n",
    "    elif i==n:\r\n",
    "        print ((i*2)*' *')  \r\n",
    "        for j in range (n,m-1):\r\n",
    "            print (2*(m-1)*' ','*')\r\n",
    "    elif i==m-2:\r\n",
    "        print()\r\n",
    "        \r\n",
    "\r\n"
   ],
   "outputs": [
    {
     "output_type": "stream",
     "name": "stdout",
     "text": [
      " *\n",
      " *  *\n",
      " *    *\n",
      " *     *\n",
      " *      *\n",
      " * * * * * * * * * * * *\n",
      "                       *\n",
      "                       *\n",
      "                       *\n",
      "                       *\n",
      "                       *\n",
      "\n"
     ]
    }
   ],
   "metadata": {}
  },
  {
   "cell_type": "code",
   "execution_count": 165,
   "source": [
    "n=4\r\n",
    "for i in range(1, 2*n):\r\n",
    "    if i < n:\r\n",
    "        for j in range(1, i + 1):\r\n",
    "            if j == 1 or j == i:\r\n",
    "                print(\"*\", end=\" \")\r\n",
    "            else:\r\n",
    "                print(\" \", end=\" \")\r\n",
    "    elif i == n:\r\n",
    "        for j in range(1, 2*n+1):\r\n",
    "            print(\"*\", end=\" \")\r\n",
    "    else:\r\n",
    "        for j in range(1, 2*n + 1):\r\n",
    "            if j == 2*n or j == i+1:\r\n",
    "                print(\"*\", end=\" \")\r\n",
    "            else:\r\n",
    "                print(\" \", end=\" \")\r\n",
    "    print()\r\n"
   ],
   "outputs": [
    {
     "output_type": "stream",
     "name": "stdout",
     "text": [
      "* \n",
      "* * \n",
      "*   * \n",
      "* * * * * * * * \n",
      "          *   * \n",
      "            * * \n",
      "              * \n"
     ]
    }
   ],
   "metadata": {}
  },
  {
   "cell_type": "markdown",
   "source": [],
   "metadata": {}
  },
  {
   "cell_type": "code",
   "execution_count": 137,
   "source": [
    "print ('x*')\r\n",
    "print ('x*','x*')\r\n",
    "print ('x*','xxx','*')\r\n",
    "print ('x*','xxxxxx','*')\r\n",
    "print ('x*','x*',x'*','x*','x*','x*','x*','x*','x*','x*')\r\n",
    "print ('a*','a*','a*','a*','a*','x*','xxxxxxxx','x*')\r\n",
    "print ('a*','a*','a*','a*','a*','a*','x*','xxxxx','x*')\r\n",
    "print ('a*','a*','a*','a*','a*','a*','a*','x*','xx','x*')\r\n",
    "print ('a*','a*','a*','a*','a*','a*','a*','a*','a*','x*')\r\n",
    "# ('x*','x*','x*','x*','x*',)\r\n"
   ],
   "outputs": [
    {
     "output_type": "stream",
     "name": "stdout",
     "text": [
      "x*\n",
      "x* x*\n",
      "x* xxx *\n",
      "x* xxxxxx *\n",
      "x* x* x* x* x* x* x* x* x* x*\n",
      "a* a* a* a* a* x* xxxxxxxx x*\n",
      "a* a* a* a* a* a* x* xxxxx x*\n",
      "a* a* a* a* a* a* a* x* xx x*\n",
      "a* a* a* a* a* a* a* a* a* x*\n"
     ]
    }
   ],
   "metadata": {}
  },
  {
   "cell_type": "code",
   "execution_count": 154,
   "source": [
    "n=4\r\n",
    "for i in range(1, 2*n):\r\n",
    "    if i < n:\r\n",
    "        for j in range(1, i + 1):\r\n",
    "            if j == 1 or j == i:\r\n",
    "                print(\"*\", end=\" \")\r\n",
    "            else:\r\n",
    "                print(\" \", end=\" \")\r\n",
    "    elif i == n:\r\n",
    "        for j in range(1, 2*n+1):\r\n",
    "            print(\"*\", end=\" \")\r\n",
    "    # else:\r\n",
    "    #     for j in range(1, 2*n + 1):\r\n",
    "    #         if j == 2*n or j == i+1:\r\n",
    "    #             print(\"*\", end=\" \")\r\n",
    "    #         else:\r\n",
    "    #             print(\" \", end=\" \")\r\n",
    "    print()"
   ],
   "outputs": [
    {
     "output_type": "stream",
     "name": "stdout",
     "text": [
      "* \n",
      "* * \n",
      "*   * \n",
      "* * * * * * * * \n",
      "\n",
      "\n",
      "\n"
     ]
    }
   ],
   "metadata": {}
  },
  {
   "cell_type": "code",
   "execution_count": 147,
   "source": [],
   "outputs": [
    {
     "output_type": "stream",
     "name": "stdout",
     "text": [
      "* \n",
      "\n",
      "* \n",
      "* \n",
      "\n",
      "* \n",
      "  \n",
      "* \n",
      "\n",
      "* \n",
      "  \n",
      "  \n",
      "* \n",
      "\n",
      "* \n",
      "  \n",
      "  \n",
      "  \n",
      "* \n",
      "\n",
      "* \n",
      "* \n",
      "* \n",
      "* \n",
      "* \n",
      "* \n",
      "* \n",
      "* \n",
      "* \n",
      "* \n",
      "* \n",
      "* \n",
      "\n",
      "              *       * \n",
      "                *     * \n",
      "                  *   * \n",
      "                    * * \n",
      "                      * \n"
     ]
    }
   ],
   "metadata": {}
  },
  {
   "cell_type": "code",
   "execution_count": 4,
   "source": [
    "for i in range(10):\r\n",
    "    if i % 2==0\r\n",
    "        continue\r\n",
    "    print(i)"
   ],
   "outputs": [
    {
     "output_type": "error",
     "ename": "SyntaxError",
     "evalue": "invalid syntax (Temp/ipykernel_4956/3978607061.py, line 2)",
     "traceback": [
      "\u001b[1;36m  File \u001b[1;32m\"C:\\Users\\HUYENP~1\\AppData\\Local\\Temp/ipykernel_4956/3978607061.py\"\u001b[1;36m, line \u001b[1;32m2\u001b[0m\n\u001b[1;33m    if i % 2==0\u001b[0m\n\u001b[1;37m               ^\u001b[0m\n\u001b[1;31mSyntaxError\u001b[0m\u001b[1;31m:\u001b[0m invalid syntax\n"
     ]
    }
   ],
   "metadata": {}
  }
 ],
 "metadata": {
  "orig_nbformat": 4,
  "language_info": {
   "name": "python",
   "version": "3.7.8",
   "mimetype": "text/x-python",
   "codemirror_mode": {
    "name": "ipython",
    "version": 3
   },
   "pygments_lexer": "ipython3",
   "nbconvert_exporter": "python",
   "file_extension": ".py"
  },
  "kernelspec": {
   "name": "python3",
   "display_name": "Python 3.7.8 64-bit"
  },
  "interpreter": {
   "hash": "38740d3277777e2cd7c6c2cc9d8addf5118fdf3f82b1b39231fd12aeac8aee8b"
  }
 },
 "nbformat": 4,
 "nbformat_minor": 2
}