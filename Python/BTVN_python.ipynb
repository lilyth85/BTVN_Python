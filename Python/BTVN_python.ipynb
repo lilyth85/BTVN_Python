{
 "cells": [
  {
   "cell_type": "code",
   "execution_count": null,
   "source": [
    "#Viết chương trình kiểm tra một năm có phải năm nhuận hay không\r\n",
    "#Nhập một năm year - int\r\n",
    "#Kiểm tra và in ra kết quả year có phải năm nhuận hay không\r\n",
    "#Năm nhuận là năm:\r\n",
    "#Chia hết cho 400\r\n",
    "#Chia hết cho 4 nhưng không chia hết cho 100\r\n",
    "#=============\r\n",
    "\r\n",
    "#A = int(input(\"Nhập Năm vào đây nhé: \"))\r\n",
    "\r\n",
    "#if (A % 400 == 0) or ((A % 4 == 0) and (A % 100 != 0)):\r\n",
    "#    print('Năm bạn nhập vào chính xác là Năm Nhuận')\r\n",
    "#else:\r\n",
    "#    print('Năm bạn nhập vào không nhuận nhé')\r\n",
    "\r\n",
    "# CÁCH KHÁC==========\r\n",
    "A = int(input(\"Nhập Năm vào đây nhé: \"))\r\n",
    "\r\n",
    "if A % 400 == 0:\r\n",
    "  print('Năm bạn nhập vào chính xác là Năm Nhuận')\r\n",
    "elif ((A % 4 == 0) and (A % 100 != 0)):\r\n",
    "  print('Năm bạn nhập vào chính xác là Năm Nhuận')\r\n",
    "else:\r\n",
    "  print('Năm bạn nhập vào không nhuận nhé')"
   ],
   "outputs": [],
   "metadata": {}
  },
  {
   "cell_type": "code",
   "execution_count": null,
   "source": [
    "#Toán tử: định dạng thời gian:\r\n",
    "#Viết chương trình chuyển đổi từ số giây (nguyên dương) thành giờ, phút, giây tương ứng\r\n",
    "#Nhập số giây sec (int)\r\n",
    "#Quy đổi và in ra giá trị giờ phút giây tương ứng\r\n",
    "#VD: Nhập 123 -> 0 giờ, 2 phút, 3 giây\r\n",
    "print(\"Nhập số giây:\")\r\n",
    "giay=input()\r\n",
    "print(\"Số giây chuyển đổi tương ứng là:\",giay)\r\n",
    "gio=int(giay)//3600\r\n",
    "print (\"chuyển đổi sang giờ: =\",gio)\r\n",
    "phut=int(giay)//60\r\n",
    "print(\"Chuyển đổi sang phút: = \",phut)\r\n",
    "print(\"Vậy: \",giay,\"giây sẽ =\",phut, \"Phút\", gio, \"giờ\")\r\n"
   ],
   "outputs": [],
   "metadata": {}
  },
  {
   "cell_type": "code",
   "execution_count": 1,
   "source": [
    "#Toán tử: Chuyển đổi đơn vị độ dài\r\n",
    "viết chương trình quy đổi độ dài từ đơn vị km sang các đơn vị khác\r\n",
    "\r\n",
    "Nhập giá trị độ dài length - float (đơn vị km)\r\n",
    "Quy đổi sang các đơn vị m, dm, cm, mm, mile, inch và in kết quả (làm tròn đến 2 chữ số thập phân)\r\n",
    "💡 Bảng đơn vị\r\n",
    "\r\n",
    "1 km = 1000 m\r\n",
    "1 km = 10000 dm\r\n",
    "1 km = 100000 cm\r\n",
    "1 km = 1000000 mm\r\n",
    "1 km = 1.609344 mile\r\n",
    "1 km = 39370.1 inch\r\n",
    "Có thể thêm một số đơn vị khác\r\n",
    "=============\r\n",
    "\r\n",
    "h= float(input(\"Nhập giá trị độ dài (đơn vị km): \"))\r\n",
    "m = h*1000\r\n",
    "dm = h*1e4\r\n",
    "cm = h*1e5\r\n",
    "mm = h*1e6\r\n",
    "mile = h*1.609344 \r\n",
    "inch = h*39370.1\r\n",
    "\r\n",
    "print(\"- Quy đổi giá trị trên ra đơn vị Met sẽ là: \", round(m,2), \"m\")\r\n",
    "\r\n",
    "print(\"- Quy đổi giá trị trên ra đơn vị Decimet sẽ là: \", round(dm,2), \"dm\")\r\n",
    "\r\n",
    "print(\"- Quy đổi giá trị trên ra đơn vị Centimet sẽ là: \", round(cm,2), \"cm\")\r\n",
    "\r\n",
    "print(\"- Quy đổi giá trị trên ra đơn vị mile sẽ là: \", round(mile,2), \"mile\")\r\n",
    "\r\n",
    "print(\"- Quy đổi giá trị trên ra đơn vị inch sẽ là: \", round(inch,2), \"inch\")\r\n",
    "\r\n"
   ],
   "outputs": [
    {
     "output_type": "error",
     "ename": "SyntaxError",
     "evalue": "invalid syntax (Temp/ipykernel_19292/2481616705.py, line 2)",
     "traceback": [
      "\u001b[1;36m  File \u001b[1;32m\"C:\\Users\\HUYENP~1\\AppData\\Local\\Temp/ipykernel_19292/2481616705.py\"\u001b[1;36m, line \u001b[1;32m2\u001b[0m\n\u001b[1;33m    viết chương trình quy đổi độ dài từ đơn vị km sang các đơn vị khác\u001b[0m\n\u001b[1;37m              ^\u001b[0m\n\u001b[1;31mSyntaxError\u001b[0m\u001b[1;31m:\u001b[0m invalid syntax\n"
     ]
    }
   ],
   "metadata": {}
  },
  {
   "cell_type": "code",
   "execution_count": null,
   "source": [],
   "outputs": [],
   "metadata": {}
  },
  {
   "cell_type": "code",
   "execution_count": null,
   "source": [],
   "outputs": [],
   "metadata": {}
  }
 ],
 "metadata": {
  "orig_nbformat": 4,
  "language_info": {
   "name": "python",
   "version": "3.7.8",
   "mimetype": "text/x-python",
   "codemirror_mode": {
    "name": "ipython",
    "version": 3
   },
   "pygments_lexer": "ipython3",
   "nbconvert_exporter": "python",
   "file_extension": ".py"
  },
  "kernelspec": {
   "name": "python3",
   "display_name": "Python 3.7.8 64-bit"
  },
  "interpreter": {
   "hash": "38740d3277777e2cd7c6c2cc9d8addf5118fdf3f82b1b39231fd12aeac8aee8b"
  }
 },
 "nbformat": 4,
 "nbformat_minor": 2
}