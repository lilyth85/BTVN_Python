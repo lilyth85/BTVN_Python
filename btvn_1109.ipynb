{
 "cells": [
  {
   "cell_type": "code",
   "execution_count": 92,
   "source": [
    "#Bài 1: Đảo ngược chuỗi trong python - Đảo ngược từ và kiểu hoa thường\r\n",
    "# Cho 1 chuỗi A (vd: \"tHE fOX iS cOMING fOR tHE cHICKEN\"). Viết hàm đảo ngược thứ tự các từ trong chuỗi \r\n",
    "# và đổi tất cả các chữ cái từ hoa thành thường và ngược lại. (kết quả là \"Chicken The For Coming Is Fox The\")\r\n",
    "\r\n",
    "def convert_string(str):\r\n",
    "    print('1. Chuỗi đầu vào là: ',str)\r\n",
    "    \r\n",
    "    list= str.split() #Cắt chuỗi ra, ngắt từ theo khoảng trắng -> đưa vào 1 mảng\r\n",
    "\r\n",
    "    list.reverse() #đảo thứ tự của chuỗi \r\n",
    "    print('2. Mảng sau khi đảo thứ tự: ',list)\r\n",
    "\r\n",
    "    s = \" \".join(list) #Ghép mảng lại thành 1 chuỗi String, giữa các phần tử trong mảng cách nhau 1 khoảng trắng\r\n",
    "    print('3. Chuỗi sau khi đảo thứ tự là: ',snew)\r\n",
    "\r\n",
    "    newstr = '' #Định nghĩa chuỗi mới = rỗng\r\n",
    "\r\n",
    "    for i in s:\r\n",
    "        if i.isupper(): \r\n",
    "            newstr += i.lower() \r\n",
    "        elif i.islower():\r\n",
    "            newstr += i.upper()\r\n",
    "        else:\r\n",
    "            newstr += i\r\n",
    "    return newstr\r\n",
    "\r\n",
    "str = \"2 THỨ là nay cHÀO hUYỀN\"\r\n",
    "print('4. Chuỗi đầu ra: ',convert_string(str))\r\n"
   ],
   "outputs": [
    {
     "output_type": "stream",
     "name": "stdout",
     "text": [
      "1. Chuỗi đầu vào là:  2 THỨ là nay cHÀO hUYỀN\n",
      "2. Mảng sau khi đảo thứ tự:  ['hUYỀN', 'cHÀO', 'nay', 'là', 'THỨ', '2']\n",
      "3. Chuỗi sau khi đảo thứ tự là:  2 THỨ là nay hôm hôm Phạm, HUYỀN Thu Chào\n",
      "4. Chuỗi đầu ra:  Huyền Chào NAY LÀ thứ 2\n"
     ]
    }
   ],
   "metadata": {}
  }
 ],
 "metadata": {
  "orig_nbformat": 4,
  "language_info": {
   "name": "python",
   "version": "3.7.8",
   "mimetype": "text/x-python",
   "codemirror_mode": {
    "name": "ipython",
    "version": 3
   },
   "pygments_lexer": "ipython3",
   "nbconvert_exporter": "python",
   "file_extension": ".py"
  },
  "kernelspec": {
   "name": "python3",
   "display_name": "Python 3.7.8 64-bit"
  },
  "interpreter": {
   "hash": "38740d3277777e2cd7c6c2cc9d8addf5118fdf3f82b1b39231fd12aeac8aee8b"
  }
 },
 "nbformat": 4,
 "nbformat_minor": 2
}